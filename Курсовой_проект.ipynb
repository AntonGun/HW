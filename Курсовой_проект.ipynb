{
  "nbformat": 4,
  "nbformat_minor": 0,
  "metadata": {
    "colab": {
      "name": "Курсовой проект.ipynb",
      "provenance": [],
      "collapsed_sections": []
    },
    "kernelspec": {
      "name": "python3",
      "display_name": "Python 3"
    },
    "language_info": {
      "name": "python"
    }
  },
  "cells": [
    {
      "cell_type": "markdown",
      "source": [
        "Исследование зависимости рейтинга актера от возраста (года рожения), страны рождения, количества и качества (рейтинга) фильмов в которых снимался, роли в фильме (главная, второстепенная)."
      ],
      "metadata": {
        "id": "wewh4fB2rWVZ"
      }
    },
    {
      "cell_type": "code",
      "execution_count": 2,
      "metadata": {
        "id": "TPQu2rnErIrV"
      },
      "outputs": [],
      "source": [
        "import pandas as pd\n",
        "import numpy as np"
      ]
    },
    {
      "cell_type": "markdown",
      "source": [
        "Обработка данных"
      ],
      "metadata": {
        "id": "U9nQyOtO2d9l"
      }
    },
    {
      "cell_type": "code",
      "source": [
        "df = pd.read_csv('movie_metadata.csv')\n",
        "df.info()"
      ],
      "metadata": {
        "id": "FxmQZF0ar2rQ",
        "colab": {
          "base_uri": "https://localhost:8080/"
        },
        "outputId": "a7300705-4a39-4407-b38b-856a8c40bc5a"
      },
      "execution_count": null,
      "outputs": [
        {
          "output_type": "stream",
          "name": "stdout",
          "text": [
            "<class 'pandas.core.frame.DataFrame'>\n",
            "RangeIndex: 3474 entries, 0 to 3473\n",
            "Data columns (total 28 columns):\n",
            " #   Column                     Non-Null Count  Dtype  \n",
            "---  ------                     --------------  -----  \n",
            " 0   color                      3466 non-null   object \n",
            " 1   director_name              3409 non-null   object \n",
            " 2   num_critic_for_reviews     3463 non-null   float64\n",
            " 3   duration                   3470 non-null   float64\n",
            " 4   director_facebook_likes    3409 non-null   float64\n",
            " 5   actor_3_facebook_likes     3468 non-null   float64\n",
            " 6   actor_2_name               3470 non-null   object \n",
            " 7   actor_1_facebook_likes     3474 non-null   int64  \n",
            " 8   gross                      3177 non-null   float64\n",
            " 9   genres                     3474 non-null   object \n",
            " 10  actor_1_name               3474 non-null   object \n",
            " 11  movie_title                3474 non-null   object \n",
            " 12  num_voted_users            3474 non-null   int64  \n",
            " 13  cast_total_facebook_likes  3474 non-null   int64  \n",
            " 14  actor_3_name               3468 non-null   object \n",
            " 15  facenumber_in_poster       3469 non-null   float64\n",
            " 16  plot_keywords              3430 non-null   object \n",
            " 17  movie_imdb_link            3474 non-null   object \n",
            " 18  num_user_for_reviews       3465 non-null   float64\n",
            " 19  language                   3469 non-null   object \n",
            " 20  country                    3469 non-null   object \n",
            " 21  content_rating             3390 non-null   object \n",
            " 22  budget                     3247 non-null   float64\n",
            " 23  title_year                 3404 non-null   float64\n",
            " 24  actor_2_facebook_likes     3469 non-null   float64\n",
            " 25  imdb_score                 3473 non-null   float64\n",
            " 26  aspect_ratio               3396 non-null   float64\n",
            " 27  movie_facebook_likes       3473 non-null   float64\n",
            "dtypes: float64(13), int64(3), object(12)\n",
            "memory usage: 760.1+ KB\n"
          ]
        }
      ]
    },
    {
      "cell_type": "markdown",
      "source": [
        "Выборка из первых 10 актеров (без упорядочения). Количество лайков на ФБ -  рейтинг популярности."
      ],
      "metadata": {
        "id": "FnKWwRbf2gpt"
      }
    },
    {
      "cell_type": "code",
      "source": [
        "df_r = df[['actor_1_name','actor_1_facebook_likes']].iloc[1:11]\n",
        "df_r = df_r.drop_duplicates()\n",
        "df_r = df_r.rename(columns={'actor_1_name': 'name' , 'actor_1_facebook_likes': 'rate'})\n",
        "df_r"
      ],
      "metadata": {
        "colab": {
          "base_uri": "https://localhost:8080/",
          "height": 363
        },
        "id": "r-ah_T--zFCS",
        "outputId": "923633d8-0e40-4de5-efcb-b1b0fc48f860"
      },
      "execution_count": null,
      "outputs": [
        {
          "output_type": "execute_result",
          "data": {
            "text/plain": [
              "               name   rate\n",
              "1       Johnny Depp  40000\n",
              "2   Christoph Waltz  11000\n",
              "3         Tom Hardy  27000\n",
              "4       Doug Walker    131\n",
              "5      Daryl Sabara    640\n",
              "6      J.K. Simmons  24000\n",
              "7      Brad Garrett    799\n",
              "8   Chris Hemsworth  26000\n",
              "9      Alan Rickman  25000\n",
              "10     Henry Cavill  15000"
            ],
            "text/html": [
              "\n",
              "  <div id=\"df-841e0319-1cd7-4ccf-80f0-3e249596b4ac\">\n",
              "    <div class=\"colab-df-container\">\n",
              "      <div>\n",
              "<style scoped>\n",
              "    .dataframe tbody tr th:only-of-type {\n",
              "        vertical-align: middle;\n",
              "    }\n",
              "\n",
              "    .dataframe tbody tr th {\n",
              "        vertical-align: top;\n",
              "    }\n",
              "\n",
              "    .dataframe thead th {\n",
              "        text-align: right;\n",
              "    }\n",
              "</style>\n",
              "<table border=\"1\" class=\"dataframe\">\n",
              "  <thead>\n",
              "    <tr style=\"text-align: right;\">\n",
              "      <th></th>\n",
              "      <th>name</th>\n",
              "      <th>rate</th>\n",
              "    </tr>\n",
              "  </thead>\n",
              "  <tbody>\n",
              "    <tr>\n",
              "      <th>1</th>\n",
              "      <td>Johnny Depp</td>\n",
              "      <td>40000</td>\n",
              "    </tr>\n",
              "    <tr>\n",
              "      <th>2</th>\n",
              "      <td>Christoph Waltz</td>\n",
              "      <td>11000</td>\n",
              "    </tr>\n",
              "    <tr>\n",
              "      <th>3</th>\n",
              "      <td>Tom Hardy</td>\n",
              "      <td>27000</td>\n",
              "    </tr>\n",
              "    <tr>\n",
              "      <th>4</th>\n",
              "      <td>Doug Walker</td>\n",
              "      <td>131</td>\n",
              "    </tr>\n",
              "    <tr>\n",
              "      <th>5</th>\n",
              "      <td>Daryl Sabara</td>\n",
              "      <td>640</td>\n",
              "    </tr>\n",
              "    <tr>\n",
              "      <th>6</th>\n",
              "      <td>J.K. Simmons</td>\n",
              "      <td>24000</td>\n",
              "    </tr>\n",
              "    <tr>\n",
              "      <th>7</th>\n",
              "      <td>Brad Garrett</td>\n",
              "      <td>799</td>\n",
              "    </tr>\n",
              "    <tr>\n",
              "      <th>8</th>\n",
              "      <td>Chris Hemsworth</td>\n",
              "      <td>26000</td>\n",
              "    </tr>\n",
              "    <tr>\n",
              "      <th>9</th>\n",
              "      <td>Alan Rickman</td>\n",
              "      <td>25000</td>\n",
              "    </tr>\n",
              "    <tr>\n",
              "      <th>10</th>\n",
              "      <td>Henry Cavill</td>\n",
              "      <td>15000</td>\n",
              "    </tr>\n",
              "  </tbody>\n",
              "</table>\n",
              "</div>\n",
              "      <button class=\"colab-df-convert\" onclick=\"convertToInteractive('df-841e0319-1cd7-4ccf-80f0-3e249596b4ac')\"\n",
              "              title=\"Convert this dataframe to an interactive table.\"\n",
              "              style=\"display:none;\">\n",
              "        \n",
              "  <svg xmlns=\"http://www.w3.org/2000/svg\" height=\"24px\"viewBox=\"0 0 24 24\"\n",
              "       width=\"24px\">\n",
              "    <path d=\"M0 0h24v24H0V0z\" fill=\"none\"/>\n",
              "    <path d=\"M18.56 5.44l.94 2.06.94-2.06 2.06-.94-2.06-.94-.94-2.06-.94 2.06-2.06.94zm-11 1L8.5 8.5l.94-2.06 2.06-.94-2.06-.94L8.5 2.5l-.94 2.06-2.06.94zm10 10l.94 2.06.94-2.06 2.06-.94-2.06-.94-.94-2.06-.94 2.06-2.06.94z\"/><path d=\"M17.41 7.96l-1.37-1.37c-.4-.4-.92-.59-1.43-.59-.52 0-1.04.2-1.43.59L10.3 9.45l-7.72 7.72c-.78.78-.78 2.05 0 2.83L4 21.41c.39.39.9.59 1.41.59.51 0 1.02-.2 1.41-.59l7.78-7.78 2.81-2.81c.8-.78.8-2.07 0-2.86zM5.41 20L4 18.59l7.72-7.72 1.47 1.35L5.41 20z\"/>\n",
              "  </svg>\n",
              "      </button>\n",
              "      \n",
              "  <style>\n",
              "    .colab-df-container {\n",
              "      display:flex;\n",
              "      flex-wrap:wrap;\n",
              "      gap: 12px;\n",
              "    }\n",
              "\n",
              "    .colab-df-convert {\n",
              "      background-color: #E8F0FE;\n",
              "      border: none;\n",
              "      border-radius: 50%;\n",
              "      cursor: pointer;\n",
              "      display: none;\n",
              "      fill: #1967D2;\n",
              "      height: 32px;\n",
              "      padding: 0 0 0 0;\n",
              "      width: 32px;\n",
              "    }\n",
              "\n",
              "    .colab-df-convert:hover {\n",
              "      background-color: #E2EBFA;\n",
              "      box-shadow: 0px 1px 2px rgba(60, 64, 67, 0.3), 0px 1px 3px 1px rgba(60, 64, 67, 0.15);\n",
              "      fill: #174EA6;\n",
              "    }\n",
              "\n",
              "    [theme=dark] .colab-df-convert {\n",
              "      background-color: #3B4455;\n",
              "      fill: #D2E3FC;\n",
              "    }\n",
              "\n",
              "    [theme=dark] .colab-df-convert:hover {\n",
              "      background-color: #434B5C;\n",
              "      box-shadow: 0px 1px 3px 1px rgba(0, 0, 0, 0.15);\n",
              "      filter: drop-shadow(0px 1px 2px rgba(0, 0, 0, 0.3));\n",
              "      fill: #FFFFFF;\n",
              "    }\n",
              "  </style>\n",
              "\n",
              "      <script>\n",
              "        const buttonEl =\n",
              "          document.querySelector('#df-841e0319-1cd7-4ccf-80f0-3e249596b4ac button.colab-df-convert');\n",
              "        buttonEl.style.display =\n",
              "          google.colab.kernel.accessAllowed ? 'block' : 'none';\n",
              "\n",
              "        async function convertToInteractive(key) {\n",
              "          const element = document.querySelector('#df-841e0319-1cd7-4ccf-80f0-3e249596b4ac');\n",
              "          const dataTable =\n",
              "            await google.colab.kernel.invokeFunction('convertToInteractive',\n",
              "                                                     [key], {});\n",
              "          if (!dataTable) return;\n",
              "\n",
              "          const docLinkHtml = 'Like what you see? Visit the ' +\n",
              "            '<a target=\"_blank\" href=https://colab.research.google.com/notebooks/data_table.ipynb>data table notebook</a>'\n",
              "            + ' to learn more about interactive tables.';\n",
              "          element.innerHTML = '';\n",
              "          dataTable['output_type'] = 'display_data';\n",
              "          await google.colab.output.renderOutput(dataTable, element);\n",
              "          const docLink = document.createElement('div');\n",
              "          docLink.innerHTML = docLinkHtml;\n",
              "          element.appendChild(docLink);\n",
              "        }\n",
              "      </script>\n",
              "    </div>\n",
              "  </div>\n",
              "  "
            ]
          },
          "metadata": {},
          "execution_count": 3
        }
      ]
    },
    {
      "cell_type": "markdown",
      "source": [
        "Max_movie_rate - максимальный рейтинг фильма с данным актером в главной роли\n",
        "\n",
        "Movie_1_role - количество фильмов с данным актером в главной роли\n",
        "\n",
        "Country - страна рождения\n",
        "\n",
        "Age - возраст\n",
        "\n",
        "Rate - рейтинг актера по количеству лайков на ФБ (особенности датасета)\n",
        "\n"
      ],
      "metadata": {
        "id": "35omhVpp5nam"
      }
    },
    {
      "cell_type": "code",
      "source": [
        "age = [59, 65, 44, 40, 30, 67, 62, 38, 69, 39]\n",
        "movie_1_count = [294, 188, 103, 55, 87, 271, 199, 126, 126, 64]\n",
        "max_rate = [8.35, 8.36, 8.66, 8.38, 8.36, 8.34, 8.67, 8.36, 8.48, 8.00]\n",
        "country = ['USA', 'Austria', 'GB', 'Italy', 'USA', 'USA', 'USA', 'Australia', 'GB', 'Normandy']\n",
        "country_rate = [0.4, 0.1, 0.2, 0.1, 0.4, 0.4, 0.4, 0.1, 0.2, 0.1]\n",
        "df_r['age'] = age\n",
        "df_r['country'] = country\n",
        "df_r['country_rate'] = country_rate\n",
        "df_r['movie_1_role'] = movie_1_count\n",
        "df_r['max_movie_rate'] = max_rate\n",
        "\n",
        "df_r"
      ],
      "metadata": {
        "colab": {
          "base_uri": "https://localhost:8080/",
          "height": 363
        },
        "id": "Arp4dopu1Bx9",
        "outputId": "a5be0188-34d8-4c57-e968-33b0c99f08f3"
      },
      "execution_count": null,
      "outputs": [
        {
          "output_type": "execute_result",
          "data": {
            "text/plain": [
              "               name   rate  age    country  country_rate  movie_1_role  \\\n",
              "1       Johnny Depp  40000   59        USA           0.4           294   \n",
              "2   Christoph Waltz  11000   65    Austria           0.1           188   \n",
              "3         Tom Hardy  27000   44         GB           0.2           103   \n",
              "4       Doug Walker    131   40      Italy           0.1            55   \n",
              "5      Daryl Sabara    640   30        USA           0.4            87   \n",
              "6      J.K. Simmons  24000   67        USA           0.4           271   \n",
              "7      Brad Garrett    799   62        USA           0.4           199   \n",
              "8   Chris Hemsworth  26000   38  Australia           0.1           126   \n",
              "9      Alan Rickman  25000   69         GB           0.2           126   \n",
              "10     Henry Cavill  15000   39   Normandy           0.1            64   \n",
              "\n",
              "    max_movie_rate  \n",
              "1             8.35  \n",
              "2             8.36  \n",
              "3             8.66  \n",
              "4             8.38  \n",
              "5             8.36  \n",
              "6             8.34  \n",
              "7             8.67  \n",
              "8             8.36  \n",
              "9             8.48  \n",
              "10            8.00  "
            ],
            "text/html": [
              "\n",
              "  <div id=\"df-ab818fdf-95b4-4836-9e59-914587820053\">\n",
              "    <div class=\"colab-df-container\">\n",
              "      <div>\n",
              "<style scoped>\n",
              "    .dataframe tbody tr th:only-of-type {\n",
              "        vertical-align: middle;\n",
              "    }\n",
              "\n",
              "    .dataframe tbody tr th {\n",
              "        vertical-align: top;\n",
              "    }\n",
              "\n",
              "    .dataframe thead th {\n",
              "        text-align: right;\n",
              "    }\n",
              "</style>\n",
              "<table border=\"1\" class=\"dataframe\">\n",
              "  <thead>\n",
              "    <tr style=\"text-align: right;\">\n",
              "      <th></th>\n",
              "      <th>name</th>\n",
              "      <th>rate</th>\n",
              "      <th>age</th>\n",
              "      <th>country</th>\n",
              "      <th>country_rate</th>\n",
              "      <th>movie_1_role</th>\n",
              "      <th>max_movie_rate</th>\n",
              "    </tr>\n",
              "  </thead>\n",
              "  <tbody>\n",
              "    <tr>\n",
              "      <th>1</th>\n",
              "      <td>Johnny Depp</td>\n",
              "      <td>40000</td>\n",
              "      <td>59</td>\n",
              "      <td>USA</td>\n",
              "      <td>0.4</td>\n",
              "      <td>294</td>\n",
              "      <td>8.35</td>\n",
              "    </tr>\n",
              "    <tr>\n",
              "      <th>2</th>\n",
              "      <td>Christoph Waltz</td>\n",
              "      <td>11000</td>\n",
              "      <td>65</td>\n",
              "      <td>Austria</td>\n",
              "      <td>0.1</td>\n",
              "      <td>188</td>\n",
              "      <td>8.36</td>\n",
              "    </tr>\n",
              "    <tr>\n",
              "      <th>3</th>\n",
              "      <td>Tom Hardy</td>\n",
              "      <td>27000</td>\n",
              "      <td>44</td>\n",
              "      <td>GB</td>\n",
              "      <td>0.2</td>\n",
              "      <td>103</td>\n",
              "      <td>8.66</td>\n",
              "    </tr>\n",
              "    <tr>\n",
              "      <th>4</th>\n",
              "      <td>Doug Walker</td>\n",
              "      <td>131</td>\n",
              "      <td>40</td>\n",
              "      <td>Italy</td>\n",
              "      <td>0.1</td>\n",
              "      <td>55</td>\n",
              "      <td>8.38</td>\n",
              "    </tr>\n",
              "    <tr>\n",
              "      <th>5</th>\n",
              "      <td>Daryl Sabara</td>\n",
              "      <td>640</td>\n",
              "      <td>30</td>\n",
              "      <td>USA</td>\n",
              "      <td>0.4</td>\n",
              "      <td>87</td>\n",
              "      <td>8.36</td>\n",
              "    </tr>\n",
              "    <tr>\n",
              "      <th>6</th>\n",
              "      <td>J.K. Simmons</td>\n",
              "      <td>24000</td>\n",
              "      <td>67</td>\n",
              "      <td>USA</td>\n",
              "      <td>0.4</td>\n",
              "      <td>271</td>\n",
              "      <td>8.34</td>\n",
              "    </tr>\n",
              "    <tr>\n",
              "      <th>7</th>\n",
              "      <td>Brad Garrett</td>\n",
              "      <td>799</td>\n",
              "      <td>62</td>\n",
              "      <td>USA</td>\n",
              "      <td>0.4</td>\n",
              "      <td>199</td>\n",
              "      <td>8.67</td>\n",
              "    </tr>\n",
              "    <tr>\n",
              "      <th>8</th>\n",
              "      <td>Chris Hemsworth</td>\n",
              "      <td>26000</td>\n",
              "      <td>38</td>\n",
              "      <td>Australia</td>\n",
              "      <td>0.1</td>\n",
              "      <td>126</td>\n",
              "      <td>8.36</td>\n",
              "    </tr>\n",
              "    <tr>\n",
              "      <th>9</th>\n",
              "      <td>Alan Rickman</td>\n",
              "      <td>25000</td>\n",
              "      <td>69</td>\n",
              "      <td>GB</td>\n",
              "      <td>0.2</td>\n",
              "      <td>126</td>\n",
              "      <td>8.48</td>\n",
              "    </tr>\n",
              "    <tr>\n",
              "      <th>10</th>\n",
              "      <td>Henry Cavill</td>\n",
              "      <td>15000</td>\n",
              "      <td>39</td>\n",
              "      <td>Normandy</td>\n",
              "      <td>0.1</td>\n",
              "      <td>64</td>\n",
              "      <td>8.00</td>\n",
              "    </tr>\n",
              "  </tbody>\n",
              "</table>\n",
              "</div>\n",
              "      <button class=\"colab-df-convert\" onclick=\"convertToInteractive('df-ab818fdf-95b4-4836-9e59-914587820053')\"\n",
              "              title=\"Convert this dataframe to an interactive table.\"\n",
              "              style=\"display:none;\">\n",
              "        \n",
              "  <svg xmlns=\"http://www.w3.org/2000/svg\" height=\"24px\"viewBox=\"0 0 24 24\"\n",
              "       width=\"24px\">\n",
              "    <path d=\"M0 0h24v24H0V0z\" fill=\"none\"/>\n",
              "    <path d=\"M18.56 5.44l.94 2.06.94-2.06 2.06-.94-2.06-.94-.94-2.06-.94 2.06-2.06.94zm-11 1L8.5 8.5l.94-2.06 2.06-.94-2.06-.94L8.5 2.5l-.94 2.06-2.06.94zm10 10l.94 2.06.94-2.06 2.06-.94-2.06-.94-.94-2.06-.94 2.06-2.06.94z\"/><path d=\"M17.41 7.96l-1.37-1.37c-.4-.4-.92-.59-1.43-.59-.52 0-1.04.2-1.43.59L10.3 9.45l-7.72 7.72c-.78.78-.78 2.05 0 2.83L4 21.41c.39.39.9.59 1.41.59.51 0 1.02-.2 1.41-.59l7.78-7.78 2.81-2.81c.8-.78.8-2.07 0-2.86zM5.41 20L4 18.59l7.72-7.72 1.47 1.35L5.41 20z\"/>\n",
              "  </svg>\n",
              "      </button>\n",
              "      \n",
              "  <style>\n",
              "    .colab-df-container {\n",
              "      display:flex;\n",
              "      flex-wrap:wrap;\n",
              "      gap: 12px;\n",
              "    }\n",
              "\n",
              "    .colab-df-convert {\n",
              "      background-color: #E8F0FE;\n",
              "      border: none;\n",
              "      border-radius: 50%;\n",
              "      cursor: pointer;\n",
              "      display: none;\n",
              "      fill: #1967D2;\n",
              "      height: 32px;\n",
              "      padding: 0 0 0 0;\n",
              "      width: 32px;\n",
              "    }\n",
              "\n",
              "    .colab-df-convert:hover {\n",
              "      background-color: #E2EBFA;\n",
              "      box-shadow: 0px 1px 2px rgba(60, 64, 67, 0.3), 0px 1px 3px 1px rgba(60, 64, 67, 0.15);\n",
              "      fill: #174EA6;\n",
              "    }\n",
              "\n",
              "    [theme=dark] .colab-df-convert {\n",
              "      background-color: #3B4455;\n",
              "      fill: #D2E3FC;\n",
              "    }\n",
              "\n",
              "    [theme=dark] .colab-df-convert:hover {\n",
              "      background-color: #434B5C;\n",
              "      box-shadow: 0px 1px 3px 1px rgba(0, 0, 0, 0.15);\n",
              "      filter: drop-shadow(0px 1px 2px rgba(0, 0, 0, 0.3));\n",
              "      fill: #FFFFFF;\n",
              "    }\n",
              "  </style>\n",
              "\n",
              "      <script>\n",
              "        const buttonEl =\n",
              "          document.querySelector('#df-ab818fdf-95b4-4836-9e59-914587820053 button.colab-df-convert');\n",
              "        buttonEl.style.display =\n",
              "          google.colab.kernel.accessAllowed ? 'block' : 'none';\n",
              "\n",
              "        async function convertToInteractive(key) {\n",
              "          const element = document.querySelector('#df-ab818fdf-95b4-4836-9e59-914587820053');\n",
              "          const dataTable =\n",
              "            await google.colab.kernel.invokeFunction('convertToInteractive',\n",
              "                                                     [key], {});\n",
              "          if (!dataTable) return;\n",
              "\n",
              "          const docLinkHtml = 'Like what you see? Visit the ' +\n",
              "            '<a target=\"_blank\" href=https://colab.research.google.com/notebooks/data_table.ipynb>data table notebook</a>'\n",
              "            + ' to learn more about interactive tables.';\n",
              "          element.innerHTML = '';\n",
              "          dataTable['output_type'] = 'display_data';\n",
              "          await google.colab.output.renderOutput(dataTable, element);\n",
              "          const docLink = document.createElement('div');\n",
              "          docLink.innerHTML = docLinkHtml;\n",
              "          element.appendChild(docLink);\n",
              "        }\n",
              "      </script>\n",
              "    </div>\n",
              "  </div>\n",
              "  "
            ]
          },
          "metadata": {},
          "execution_count": 38
        }
      ]
    },
    {
      "cell_type": "code",
      "source": [
        "tab_cor = df_r.corr()\n",
        "tab_cor"
      ],
      "metadata": {
        "colab": {
          "base_uri": "https://localhost:8080/",
          "height": 206
        },
        "id": "1alLMvYN45Uw",
        "outputId": "ede8368d-4210-4421-cb6c-f1c49c8b77a8"
      },
      "execution_count": null,
      "outputs": [
        {
          "output_type": "execute_result",
          "data": {
            "text/plain": [
              "                    rate       age  country_rate  movie_1_role  max_movie_rate\n",
              "rate            1.000000  0.306002      0.062147      0.492837       -0.044773\n",
              "age             0.306002  1.000000      0.262095      0.712886        0.288493\n",
              "country_rate    0.062147  0.262095      1.000000      0.616750        0.312516\n",
              "movie_1_role    0.492837  0.712886      0.616750      1.000000        0.162133\n",
              "max_movie_rate -0.044773  0.288493      0.312516      0.162133        1.000000"
            ],
            "text/html": [
              "\n",
              "  <div id=\"df-3ea2e2b4-4a2b-46fb-9fcf-c9092dca3ec4\">\n",
              "    <div class=\"colab-df-container\">\n",
              "      <div>\n",
              "<style scoped>\n",
              "    .dataframe tbody tr th:only-of-type {\n",
              "        vertical-align: middle;\n",
              "    }\n",
              "\n",
              "    .dataframe tbody tr th {\n",
              "        vertical-align: top;\n",
              "    }\n",
              "\n",
              "    .dataframe thead th {\n",
              "        text-align: right;\n",
              "    }\n",
              "</style>\n",
              "<table border=\"1\" class=\"dataframe\">\n",
              "  <thead>\n",
              "    <tr style=\"text-align: right;\">\n",
              "      <th></th>\n",
              "      <th>rate</th>\n",
              "      <th>age</th>\n",
              "      <th>country_rate</th>\n",
              "      <th>movie_1_role</th>\n",
              "      <th>max_movie_rate</th>\n",
              "    </tr>\n",
              "  </thead>\n",
              "  <tbody>\n",
              "    <tr>\n",
              "      <th>rate</th>\n",
              "      <td>1.000000</td>\n",
              "      <td>0.306002</td>\n",
              "      <td>0.062147</td>\n",
              "      <td>0.492837</td>\n",
              "      <td>-0.044773</td>\n",
              "    </tr>\n",
              "    <tr>\n",
              "      <th>age</th>\n",
              "      <td>0.306002</td>\n",
              "      <td>1.000000</td>\n",
              "      <td>0.262095</td>\n",
              "      <td>0.712886</td>\n",
              "      <td>0.288493</td>\n",
              "    </tr>\n",
              "    <tr>\n",
              "      <th>country_rate</th>\n",
              "      <td>0.062147</td>\n",
              "      <td>0.262095</td>\n",
              "      <td>1.000000</td>\n",
              "      <td>0.616750</td>\n",
              "      <td>0.312516</td>\n",
              "    </tr>\n",
              "    <tr>\n",
              "      <th>movie_1_role</th>\n",
              "      <td>0.492837</td>\n",
              "      <td>0.712886</td>\n",
              "      <td>0.616750</td>\n",
              "      <td>1.000000</td>\n",
              "      <td>0.162133</td>\n",
              "    </tr>\n",
              "    <tr>\n",
              "      <th>max_movie_rate</th>\n",
              "      <td>-0.044773</td>\n",
              "      <td>0.288493</td>\n",
              "      <td>0.312516</td>\n",
              "      <td>0.162133</td>\n",
              "      <td>1.000000</td>\n",
              "    </tr>\n",
              "  </tbody>\n",
              "</table>\n",
              "</div>\n",
              "      <button class=\"colab-df-convert\" onclick=\"convertToInteractive('df-3ea2e2b4-4a2b-46fb-9fcf-c9092dca3ec4')\"\n",
              "              title=\"Convert this dataframe to an interactive table.\"\n",
              "              style=\"display:none;\">\n",
              "        \n",
              "  <svg xmlns=\"http://www.w3.org/2000/svg\" height=\"24px\"viewBox=\"0 0 24 24\"\n",
              "       width=\"24px\">\n",
              "    <path d=\"M0 0h24v24H0V0z\" fill=\"none\"/>\n",
              "    <path d=\"M18.56 5.44l.94 2.06.94-2.06 2.06-.94-2.06-.94-.94-2.06-.94 2.06-2.06.94zm-11 1L8.5 8.5l.94-2.06 2.06-.94-2.06-.94L8.5 2.5l-.94 2.06-2.06.94zm10 10l.94 2.06.94-2.06 2.06-.94-2.06-.94-.94-2.06-.94 2.06-2.06.94z\"/><path d=\"M17.41 7.96l-1.37-1.37c-.4-.4-.92-.59-1.43-.59-.52 0-1.04.2-1.43.59L10.3 9.45l-7.72 7.72c-.78.78-.78 2.05 0 2.83L4 21.41c.39.39.9.59 1.41.59.51 0 1.02-.2 1.41-.59l7.78-7.78 2.81-2.81c.8-.78.8-2.07 0-2.86zM5.41 20L4 18.59l7.72-7.72 1.47 1.35L5.41 20z\"/>\n",
              "  </svg>\n",
              "      </button>\n",
              "      \n",
              "  <style>\n",
              "    .colab-df-container {\n",
              "      display:flex;\n",
              "      flex-wrap:wrap;\n",
              "      gap: 12px;\n",
              "    }\n",
              "\n",
              "    .colab-df-convert {\n",
              "      background-color: #E8F0FE;\n",
              "      border: none;\n",
              "      border-radius: 50%;\n",
              "      cursor: pointer;\n",
              "      display: none;\n",
              "      fill: #1967D2;\n",
              "      height: 32px;\n",
              "      padding: 0 0 0 0;\n",
              "      width: 32px;\n",
              "    }\n",
              "\n",
              "    .colab-df-convert:hover {\n",
              "      background-color: #E2EBFA;\n",
              "      box-shadow: 0px 1px 2px rgba(60, 64, 67, 0.3), 0px 1px 3px 1px rgba(60, 64, 67, 0.15);\n",
              "      fill: #174EA6;\n",
              "    }\n",
              "\n",
              "    [theme=dark] .colab-df-convert {\n",
              "      background-color: #3B4455;\n",
              "      fill: #D2E3FC;\n",
              "    }\n",
              "\n",
              "    [theme=dark] .colab-df-convert:hover {\n",
              "      background-color: #434B5C;\n",
              "      box-shadow: 0px 1px 3px 1px rgba(0, 0, 0, 0.15);\n",
              "      filter: drop-shadow(0px 1px 2px rgba(0, 0, 0, 0.3));\n",
              "      fill: #FFFFFF;\n",
              "    }\n",
              "  </style>\n",
              "\n",
              "      <script>\n",
              "        const buttonEl =\n",
              "          document.querySelector('#df-3ea2e2b4-4a2b-46fb-9fcf-c9092dca3ec4 button.colab-df-convert');\n",
              "        buttonEl.style.display =\n",
              "          google.colab.kernel.accessAllowed ? 'block' : 'none';\n",
              "\n",
              "        async function convertToInteractive(key) {\n",
              "          const element = document.querySelector('#df-3ea2e2b4-4a2b-46fb-9fcf-c9092dca3ec4');\n",
              "          const dataTable =\n",
              "            await google.colab.kernel.invokeFunction('convertToInteractive',\n",
              "                                                     [key], {});\n",
              "          if (!dataTable) return;\n",
              "\n",
              "          const docLinkHtml = 'Like what you see? Visit the ' +\n",
              "            '<a target=\"_blank\" href=https://colab.research.google.com/notebooks/data_table.ipynb>data table notebook</a>'\n",
              "            + ' to learn more about interactive tables.';\n",
              "          element.innerHTML = '';\n",
              "          dataTable['output_type'] = 'display_data';\n",
              "          await google.colab.output.renderOutput(dataTable, element);\n",
              "          const docLink = document.createElement('div');\n",
              "          docLink.innerHTML = docLinkHtml;\n",
              "          element.appendChild(docLink);\n",
              "        }\n",
              "      </script>\n",
              "    </div>\n",
              "  </div>\n",
              "  "
            ]
          },
          "metadata": {},
          "execution_count": 23
        }
      ]
    },
    {
      "cell_type": "markdown",
      "source": [
        "Как видно из матрицы корреляций присутствует зависимость рейтинга актера от количества фильмов с актером в главной роли и от максимального рейтинга фильма.Исходя из этого оценим зависимость рейтинга актера от количества фильмов."
      ],
      "metadata": {
        "id": "BBdQ27m0S1YI"
      }
    },
    {
      "cell_type": "markdown",
      "source": [
        "Средние значения"
      ],
      "metadata": {
        "id": "c-pTI8Ry8WID"
      }
    },
    {
      "cell_type": "code",
      "source": [
        "rate_mean = df_r['rate'].mean()\n",
        "age_mean = df_r['age'].mean()\n",
        "movie_1_role_mean = df_r['movie_1_role'].mean()\n",
        "max_movie_rate_mean = df_r['max_movie_rate'].mean()\n",
        "print(f'Rate mean = {rate_mean}\\nAge mean = {age_mean}\\nNumber of movies with 1 role = {movie_1_role_mean}\\nMaximum movie rate = {max_movie_rate_mean}')"
      ],
      "metadata": {
        "colab": {
          "base_uri": "https://localhost:8080/"
        },
        "id": "X6QERKKO8Yri",
        "outputId": "59218912-1357-4a92-ca7b-422885e2365b"
      },
      "execution_count": null,
      "outputs": [
        {
          "output_type": "stream",
          "name": "stdout",
          "text": [
            "Rate mean = 16957.0\n",
            "Age mean = 51.3\n",
            "Number of movies with 1 role = 151.3\n",
            "Maximum movie rate = 8.396\n"
          ]
        }
      ]
    },
    {
      "cell_type": "code",
      "source": [
        "rate = pd.Series(df_r['rate'])\n",
        "movie = pd.Series(df_r['movie_1_role'])\n",
        "n = len(rate)"
      ],
      "metadata": {
        "id": "ZpCH9ijXUOFp"
      },
      "execution_count": null,
      "outputs": []
    },
    {
      "cell_type": "markdown",
      "source": [
        "Вычислим коэффициенты уравнения линейной регрессии"
      ],
      "metadata": {
        "id": "UFUsAc15Ur-Z"
      }
    },
    {
      "cell_type": "code",
      "source": [
        "X = rate\n",
        "Y = movie\n",
        "\n",
        "b = ((X * Y).mean() - (X.mean() * Y.mean())) / ((X**2).mean() - (X.mean())**2)\n",
        "a = Y.mean() - b * X.mean()\n",
        "print(f'y={a:.4f}+{b:.4f}*x')"
      ],
      "metadata": {
        "colab": {
          "base_uri": "https://localhost:8080/"
        },
        "id": "du8JdocZUwbD",
        "outputId": "0c2a533f-86a4-4509-8534-aeb9107c00bb"
      },
      "execution_count": null,
      "outputs": [
        {
          "output_type": "stream",
          "name": "stdout",
          "text": [
            "y=100.1061+0.0030*x\n"
          ]
        }
      ]
    },
    {
      "cell_type": "code",
      "source": [
        "import matplotlib.pyplot as plt\n",
        "\n",
        "plt.scatter(X, Y)\n",
        "plt.plot(X, 100.1061+0.0030*X, color='red')\n",
        "plt.xlabel('Rate')\n",
        "plt.ylabel('Number of 1 star movies')\n",
        "plt.show()"
      ],
      "metadata": {
        "colab": {
          "base_uri": "https://localhost:8080/",
          "height": 279
        },
        "id": "-p16dFkUVnzJ",
        "outputId": "920b1442-f761-4e7c-a2b5-a564f328abe1"
      },
      "execution_count": null,
      "outputs": [
        {
          "output_type": "display_data",
          "data": {
            "text/plain": [
              "<Figure size 432x288 with 1 Axes>"
            ],
            "image/png": "[encoded data removed]"
          },
          "metadata": {
            "needs_background": "light"
          }
        }
      ]
    },
    {
      "cell_type": "markdown",
      "source": [
        "Коэффициент корреляции и детерминации"
      ],
      "metadata": {
        "id": "YLwlhcNmaXnH"
      }
    },
    {
      "cell_type": "code",
      "source": [
        "r = b * X.std() / Y.std()\n",
        "R = r**2\n",
        "R"
      ],
      "metadata": {
        "colab": {
          "base_uri": "https://localhost:8080/"
        },
        "id": "KZfTEhOlaZ2K",
        "outputId": "d8eaa9cc-ac29-46e8-df70-1473f68d5ad4"
      },
      "execution_count": null,
      "outputs": [
        {
          "output_type": "execute_result",
          "data": {
            "text/plain": [
              "0.24288795250321146"
            ]
          },
          "metadata": {},
          "execution_count": 29
        }
      ]
    },
    {
      "cell_type": "markdown",
      "source": [
        "Предсказание Y исходя из известных X"
      ],
      "metadata": {
        "id": "A8DMqV_KbD-n"
      }
    },
    {
      "cell_type": "code",
      "source": [
        "X_new = df[['actor_1_name','actor_1_facebook_likes']].iloc[131:141]\n",
        "X_new = X_new.drop_duplicates()\n",
        "X_new = X_new.rename(columns={'actor_1_name': 'name' , 'actor_1_facebook_likes': 'rate'})\n",
        "age_new = [25, 38, 70, 59, 60, 84, 65, 60, 47, 31]\n",
        "movie_1_count_new = [134, 50, 309, 294, 266, 263, 188, 187, 216, 23]\n",
        "max_rate_new = [8.16, 7.73, 8.83, 8.36, 8.24, 8.33, 8.36, 8.66, 7.93, 8.21]\n",
        "country_new = ['USA', 'USA', 'GB', 'USA', 'USA', 'GB', 'Austria', 'USA', 'USA', 'USA']\n",
        "country_rate_new = [0.7, 0.7, 0.2, 0.7, 0.7, 0.2, 0.1, 0.7, 0.7, 0.7]\n",
        "X_new['age'] = age_new\n",
        "X_new['country'] = country_new\n",
        "X_new['country_rate'] = country_rate_new\n",
        "X_new['movie_1_role'] = movie_1_count_new\n",
        "X_new['max_movie_rate'] = max_rate_new\n",
        "\n",
        "X_new"
      ],
      "metadata": {
        "colab": {
          "base_uri": "https://localhost:8080/",
          "height": 363
        },
        "id": "wJrYF1PjbdrD",
        "outputId": "9eb0d649-0f6d-4ddc-de45-3b0c6382e638"
      },
      "execution_count": null,
      "outputs": [
        {
          "output_type": "execute_result",
          "data": {
            "text/plain": [
              "                    name   rate  age  country  country_rate  movie_1_role  \\\n",
              "131   Chloë Grace Moretz  17000   25      USA           0.7           134   \n",
              "132         Kelli Garner    730   38      USA           0.7            50   \n",
              "133          Liam Neeson  14000   70       GB           0.2           309   \n",
              "134          Johnny Depp  40000   59      USA           0.7           294   \n",
              "135           Tom Cruise  10000   60      USA           0.7           266   \n",
              "136      Anthony Hopkins  12000   84       GB           0.2           263   \n",
              "137      Christoph Waltz  11000   65  Austria           0.1           188   \n",
              "138    Matthew Broderick   2000   60      USA           0.7           187   \n",
              "139  Angelina Jolie Pitt  11000   47      USA           0.7           216   \n",
              "140    Seychelle Gabriel   1000   31      USA           0.7            23   \n",
              "\n",
              "     max_movie_rate  \n",
              "131            8.16  \n",
              "132            7.73  \n",
              "133            8.83  \n",
              "134            8.36  \n",
              "135            8.24  \n",
              "136            8.33  \n",
              "137            8.36  \n",
              "138            8.66  \n",
              "139            7.93  \n",
              "140            8.21  "
            ],
            "text/html": [
              "\n",
              "  <div id=\"df-bc105f5c-7544-4523-a89f-4d0a503fba03\">\n",
              "    <div class=\"colab-df-container\">\n",
              "      <div>\n",
              "<style scoped>\n",
              "    .dataframe tbody tr th:only-of-type {\n",
              "        vertical-align: middle;\n",
              "    }\n",
              "\n",
              "    .dataframe tbody tr th {\n",
              "        vertical-align: top;\n",
              "    }\n",
              "\n",
              "    .dataframe thead th {\n",
              "        text-align: right;\n",
              "    }\n",
              "</style>\n",
              "<table border=\"1\" class=\"dataframe\">\n",
              "  <thead>\n",
              "    <tr style=\"text-align: right;\">\n",
              "      <th></th>\n",
              "      <th>name</th>\n",
              "      <th>rate</th>\n",
              "      <th>age</th>\n",
              "      <th>country</th>\n",
              "      <th>country_rate</th>\n",
              "      <th>movie_1_role</th>\n",
              "      <th>max_movie_rate</th>\n",
              "    </tr>\n",
              "  </thead>\n",
              "  <tbody>\n",
              "    <tr>\n",
              "      <th>131</th>\n",
              "      <td>Chloë Grace Moretz</td>\n",
              "      <td>17000</td>\n",
              "      <td>25</td>\n",
              "      <td>USA</td>\n",
              "      <td>0.7</td>\n",
              "      <td>134</td>\n",
              "      <td>8.16</td>\n",
              "    </tr>\n",
              "    <tr>\n",
              "      <th>132</th>\n",
              "      <td>Kelli Garner</td>\n",
              "      <td>730</td>\n",
              "      <td>38</td>\n",
              "      <td>USA</td>\n",
              "      <td>0.7</td>\n",
              "      <td>50</td>\n",
              "      <td>7.73</td>\n",
              "    </tr>\n",
              "    <tr>\n",
              "      <th>133</th>\n",
              "      <td>Liam Neeson</td>\n",
              "      <td>14000</td>\n",
              "      <td>70</td>\n",
              "      <td>GB</td>\n",
              "      <td>0.2</td>\n",
              "      <td>309</td>\n",
              "      <td>8.83</td>\n",
              "    </tr>\n",
              "    <tr>\n",
              "      <th>134</th>\n",
              "      <td>Johnny Depp</td>\n",
              "      <td>40000</td>\n",
              "      <td>59</td>\n",
              "      <td>USA</td>\n",
              "      <td>0.7</td>\n",
              "      <td>294</td>\n",
              "      <td>8.36</td>\n",
              "    </tr>\n",
              "    <tr>\n",
              "      <th>135</th>\n",
              "      <td>Tom Cruise</td>\n",
              "      <td>10000</td>\n",
              "      <td>60</td>\n",
              "      <td>USA</td>\n",
              "      <td>0.7</td>\n",
              "      <td>266</td>\n",
              "      <td>8.24</td>\n",
              "    </tr>\n",
              "    <tr>\n",
              "      <th>136</th>\n",
              "      <td>Anthony Hopkins</td>\n",
              "      <td>12000</td>\n",
              "      <td>84</td>\n",
              "      <td>GB</td>\n",
              "      <td>0.2</td>\n",
              "      <td>263</td>\n",
              "      <td>8.33</td>\n",
              "    </tr>\n",
              "    <tr>\n",
              "      <th>137</th>\n",
              "      <td>Christoph Waltz</td>\n",
              "      <td>11000</td>\n",
              "      <td>65</td>\n",
              "      <td>Austria</td>\n",
              "      <td>0.1</td>\n",
              "      <td>188</td>\n",
              "      <td>8.36</td>\n",
              "    </tr>\n",
              "    <tr>\n",
              "      <th>138</th>\n",
              "      <td>Matthew Broderick</td>\n",
              "      <td>2000</td>\n",
              "      <td>60</td>\n",
              "      <td>USA</td>\n",
              "      <td>0.7</td>\n",
              "      <td>187</td>\n",
              "      <td>8.66</td>\n",
              "    </tr>\n",
              "    <tr>\n",
              "      <th>139</th>\n",
              "      <td>Angelina Jolie Pitt</td>\n",
              "      <td>11000</td>\n",
              "      <td>47</td>\n",
              "      <td>USA</td>\n",
              "      <td>0.7</td>\n",
              "      <td>216</td>\n",
              "      <td>7.93</td>\n",
              "    </tr>\n",
              "    <tr>\n",
              "      <th>140</th>\n",
              "      <td>Seychelle Gabriel</td>\n",
              "      <td>1000</td>\n",
              "      <td>31</td>\n",
              "      <td>USA</td>\n",
              "      <td>0.7</td>\n",
              "      <td>23</td>\n",
              "      <td>8.21</td>\n",
              "    </tr>\n",
              "  </tbody>\n",
              "</table>\n",
              "</div>\n",
              "      <button class=\"colab-df-convert\" onclick=\"convertToInteractive('df-bc105f5c-7544-4523-a89f-4d0a503fba03')\"\n",
              "              title=\"Convert this dataframe to an interactive table.\"\n",
              "              style=\"display:none;\">\n",
              "        \n",
              "  <svg xmlns=\"http://www.w3.org/2000/svg\" height=\"24px\"viewBox=\"0 0 24 24\"\n",
              "       width=\"24px\">\n",
              "    <path d=\"M0 0h24v24H0V0z\" fill=\"none\"/>\n",
              "    <path d=\"M18.56 5.44l.94 2.06.94-2.06 2.06-.94-2.06-.94-.94-2.06-.94 2.06-2.06.94zm-11 1L8.5 8.5l.94-2.06 2.06-.94-2.06-.94L8.5 2.5l-.94 2.06-2.06.94zm10 10l.94 2.06.94-2.06 2.06-.94-2.06-.94-.94-2.06-.94 2.06-2.06.94z\"/><path d=\"M17.41 7.96l-1.37-1.37c-.4-.4-.92-.59-1.43-.59-.52 0-1.04.2-1.43.59L10.3 9.45l-7.72 7.72c-.78.78-.78 2.05 0 2.83L4 21.41c.39.39.9.59 1.41.59.51 0 1.02-.2 1.41-.59l7.78-7.78 2.81-2.81c.8-.78.8-2.07 0-2.86zM5.41 20L4 18.59l7.72-7.72 1.47 1.35L5.41 20z\"/>\n",
              "  </svg>\n",
              "      </button>\n",
              "      \n",
              "  <style>\n",
              "    .colab-df-container {\n",
              "      display:flex;\n",
              "      flex-wrap:wrap;\n",
              "      gap: 12px;\n",
              "    }\n",
              "\n",
              "    .colab-df-convert {\n",
              "      background-color: #E8F0FE;\n",
              "      border: none;\n",
              "      border-radius: 50%;\n",
              "      cursor: pointer;\n",
              "      display: none;\n",
              "      fill: #1967D2;\n",
              "      height: 32px;\n",
              "      padding: 0 0 0 0;\n",
              "      width: 32px;\n",
              "    }\n",
              "\n",
              "    .colab-df-convert:hover {\n",
              "      background-color: #E2EBFA;\n",
              "      box-shadow: 0px 1px 2px rgba(60, 64, 67, 0.3), 0px 1px 3px 1px rgba(60, 64, 67, 0.15);\n",
              "      fill: #174EA6;\n",
              "    }\n",
              "\n",
              "    [theme=dark] .colab-df-convert {\n",
              "      background-color: #3B4455;\n",
              "      fill: #D2E3FC;\n",
              "    }\n",
              "\n",
              "    [theme=dark] .colab-df-convert:hover {\n",
              "      background-color: #434B5C;\n",
              "      box-shadow: 0px 1px 3px 1px rgba(0, 0, 0, 0.15);\n",
              "      filter: drop-shadow(0px 1px 2px rgba(0, 0, 0, 0.3));\n",
              "      fill: #FFFFFF;\n",
              "    }\n",
              "  </style>\n",
              "\n",
              "      <script>\n",
              "        const buttonEl =\n",
              "          document.querySelector('#df-bc105f5c-7544-4523-a89f-4d0a503fba03 button.colab-df-convert');\n",
              "        buttonEl.style.display =\n",
              "          google.colab.kernel.accessAllowed ? 'block' : 'none';\n",
              "\n",
              "        async function convertToInteractive(key) {\n",
              "          const element = document.querySelector('#df-bc105f5c-7544-4523-a89f-4d0a503fba03');\n",
              "          const dataTable =\n",
              "            await google.colab.kernel.invokeFunction('convertToInteractive',\n",
              "                                                     [key], {});\n",
              "          if (!dataTable) return;\n",
              "\n",
              "          const docLinkHtml = 'Like what you see? Visit the ' +\n",
              "            '<a target=\"_blank\" href=https://colab.research.google.com/notebooks/data_table.ipynb>data table notebook</a>'\n",
              "            + ' to learn more about interactive tables.';\n",
              "          element.innerHTML = '';\n",
              "          dataTable['output_type'] = 'display_data';\n",
              "          await google.colab.output.renderOutput(dataTable, element);\n",
              "          const docLink = document.createElement('div');\n",
              "          docLink.innerHTML = docLinkHtml;\n",
              "          element.appendChild(docLink);\n",
              "        }\n",
              "      </script>\n",
              "    </div>\n",
              "  </div>\n",
              "  "
            ]
          },
          "metadata": {},
          "execution_count": 45
        }
      ]
    },
    {
      "cell_type": "code",
      "source": [
        "y_pred = a + b * X\n",
        "y_pred"
      ],
      "metadata": {
        "colab": {
          "base_uri": "https://localhost:8080/"
        },
        "id": "hMTJx535bJsa",
        "outputId": "456c5a7b-6021-4f63-9bd8-7c224fbd654b"
      },
      "execution_count": null,
      "outputs": [
        {
          "output_type": "execute_result",
          "data": {
            "text/plain": [
              "1     220.867769\n",
              "2     133.315571\n",
              "3     181.620232\n",
              "4     100.501611\n",
              "5     102.038303\n",
              "6     172.563108\n",
              "7     102.518330\n",
              "8     178.601191\n",
              "9     175.582149\n",
              "10    145.391736\n",
              "Name: rate, dtype: float64"
            ]
          },
          "metadata": {},
          "execution_count": 55
        }
      ]
    },
    {
      "cell_type": "markdown",
      "source": [
        "Качество модели"
      ],
      "metadata": {
        "id": "UvSSM1Rze_Y5"
      }
    },
    {
      "cell_type": "code",
      "source": [
        "A_mean = 100 * (np.abs((Y - y_pred)/Y)).mean()\n",
        "A_mean"
      ],
      "metadata": {
        "colab": {
          "base_uri": "https://localhost:8080/"
        },
        "id": "PBvA2QGufBlK",
        "outputId": "307b115a-f20e-4c2e-b6ec-a32eafb85250"
      },
      "execution_count": null,
      "outputs": [
        {
          "output_type": "execute_result",
          "data": {
            "text/plain": [
              "52.33876040550243"
            ]
          },
          "metadata": {},
          "execution_count": 56
        }
      ]
    },
    {
      "cell_type": "markdown",
      "source": [
        "F-критерий Фишера"
      ],
      "metadata": {
        "id": "VCMjZa25f7HA"
      }
    },
    {
      "cell_type": "code",
      "source": [
        "F_fact = (r**2 * (n - 2)) / (1 - r**2) \n",
        "F_fact"
      ],
      "metadata": {
        "colab": {
          "base_uri": "https://localhost:8080/"
        },
        "id": "dj4GTUL9f9Ky",
        "outputId": "0d351cf0-73f7-4c58-d652-b4a8ff122466"
      },
      "execution_count": null,
      "outputs": [
        {
          "output_type": "execute_result",
          "data": {
            "text/plain": [
              "2.5664677063984165"
            ]
          },
          "metadata": {},
          "execution_count": 57
        }
      ]
    },
    {
      "cell_type": "code",
      "source": [
        "k1 = 1\n",
        "k2 = n - 2\n",
        "alpha = 0.05\n",
        "F_crit = 5.32\n",
        "print(f'Importance: {F_fact > F_crit}')"
      ],
      "metadata": {
        "colab": {
          "base_uri": "https://localhost:8080/"
        },
        "id": "i1EbwAn9gBrT",
        "outputId": "7ffda5a3-b683-48ef-bd93-7b461cf572f5"
      },
      "execution_count": null,
      "outputs": [
        {
          "output_type": "stream",
          "name": "stdout",
          "text": [
            "Importance: False\n"
          ]
        }
      ]
    },
    {
      "cell_type": "code",
      "source": [
        "t_crit = 2.31"
      ],
      "metadata": {
        "id": "bIL6VECRgy19"
      },
      "execution_count": null,
      "outputs": []
    },
    {
      "cell_type": "markdown",
      "source": [
        "Стандартная и случайные ошибки"
      ],
      "metadata": {
        "id": "QFlBc13Dg41f"
      }
    },
    {
      "cell_type": "code",
      "source": [
        "S_res = np.sqrt(((Y - y_pred)**2).sum() / (n - 2))\n",
        "m_a = S_res * np.sqrt((X**2).sum()) / (n * X.std())\n",
        "m_b = S_res / (np.sqrt(n) * X.std())\n",
        "print(f'S = {S_res}\\nm_a = {m_a}\\nm_b = {m_b}')"
      ],
      "metadata": {
        "colab": {
          "base_uri": "https://localhost:8080/"
        },
        "id": "1TXlYPKgg8Sa",
        "outputId": "f5feecbb-9bc6-4f92-a1c6-986af8560828"
      },
      "execution_count": null,
      "outputs": [
        {
          "output_type": "stream",
          "name": "stdout",
          "text": [
            "S = 77.18874737729956\n",
            "m_a = 38.14822560475311\n",
            "m_b = 0.001787814311219708\n"
          ]
        }
      ]
    },
    {
      "cell_type": "markdown",
      "source": [
        "Наблюдаемые значения критерия t"
      ],
      "metadata": {
        "id": "VCF8s3-1hExH"
      }
    },
    {
      "cell_type": "code",
      "source": [
        "t_a = a / m_a\n",
        "t_b = b / m_b\n",
        "\n",
        "print(f'ta = {t_a}\\ntb = {t_b}\\nta > t_crit: {t_a > t_crit}\\ntb > t_crit: {t_b > t_crit}')"
      ],
      "metadata": {
        "colab": {
          "base_uri": "https://localhost:8080/"
        },
        "id": "rMnAEQrohFiH",
        "outputId": "d76ac5c2-129e-4f76-b10f-c5f0fe010997"
      },
      "execution_count": null,
      "outputs": [
        {
          "output_type": "stream",
          "name": "stdout",
          "text": [
            "ta = 2.624135586643411\n",
            "tb = 1.6886772293387302\n",
            "ta > t_crit: True\n",
            "tb > t_crit: False\n"
          ]
        }
      ]
    },
    {
      "cell_type": "markdown",
      "source": [
        "Доверительные интервалы параметров регрессии a и b"
      ],
      "metadata": {
        "id": "Ui1REnt_hMJi"
      }
    },
    {
      "cell_type": "code",
      "source": [
        "delta_a = t_crit * m_a\n",
        "delta_b = t_crit * m_b\n",
        "gamma_a_up = a + delta_a\n",
        "gamma_a_down = a - delta_a\n",
        "gamma_b_up = b + delta_b\n",
        "gamma_b_down = b - delta_b\n",
        "\n",
        "if gamma_a_down < a < gamma_a_up and gamma_b_down < b < gamma_b_up:\n",
        "  print(f'{gamma_a_down:.3f} < {a:.3f} < {gamma_a_up:.3f}\\n{gamma_b_down:.3f} < {b:.3f} < {gamma_b_up:.3f}\\np = {1 - alpha}')\n",
        "else:\n",
        "  print('Wrong model')\n"
      ],
      "metadata": {
        "colab": {
          "base_uri": "https://localhost:8080/"
        },
        "id": "NhkrISKihMqz",
        "outputId": "076b65e3-8822-4251-bbf3-602d40eb68d5"
      },
      "execution_count": null,
      "outputs": [
        {
          "output_type": "stream",
          "name": "stdout",
          "text": [
            "11.984 < 100.106 < 188.229\n",
            "-0.001 < 0.003 < 0.007\n",
            "p = 0.95\n"
          ]
        }
      ]
    },
    {
      "cell_type": "code",
      "source": [
        "df_r['movie_prediction'] = y_pred\n",
        "df_r"
      ],
      "metadata": {
        "colab": {
          "base_uri": "https://localhost:8080/",
          "height": 363
        },
        "id": "dWnXZgiuhU6n",
        "outputId": "47f426c2-6045-4dba-b58b-262fe4cb4bc6"
      },
      "execution_count": null,
      "outputs": [
        {
          "output_type": "execute_result",
          "data": {
            "text/plain": [
              "               name   rate  age    country  country_rate  movie_1_role  \\\n",
              "1       Johnny Depp  40000   59        USA           0.4           294   \n",
              "2   Christoph Waltz  11000   65    Austria           0.1           188   \n",
              "3         Tom Hardy  27000   44         GB           0.2           103   \n",
              "4       Doug Walker    131   40      Italy           0.1            55   \n",
              "5      Daryl Sabara    640   30        USA           0.4            87   \n",
              "6      J.K. Simmons  24000   67        USA           0.4           271   \n",
              "7      Brad Garrett    799   62        USA           0.4           199   \n",
              "8   Chris Hemsworth  26000   38  Australia           0.1           126   \n",
              "9      Alan Rickman  25000   69         GB           0.2           126   \n",
              "10     Henry Cavill  15000   39   Normandy           0.1            64   \n",
              "\n",
              "    max_movie_rate  movie_prediction  \n",
              "1             8.35        220.867769  \n",
              "2             8.36        133.315571  \n",
              "3             8.66        181.620232  \n",
              "4             8.38        100.501611  \n",
              "5             8.36        102.038303  \n",
              "6             8.34        172.563108  \n",
              "7             8.67        102.518330  \n",
              "8             8.36        178.601191  \n",
              "9             8.48        175.582149  \n",
              "10            8.00        145.391736  "
            ],
            "text/html": [
              "\n",
              "  <div id=\"df-bc294afa-4ca2-4542-8bc7-e8edebdd8b20\">\n",
              "    <div class=\"colab-df-container\">\n",
              "      <div>\n",
              "<style scoped>\n",
              "    .dataframe tbody tr th:only-of-type {\n",
              "        vertical-align: middle;\n",
              "    }\n",
              "\n",
              "    .dataframe tbody tr th {\n",
              "        vertical-align: top;\n",
              "    }\n",
              "\n",
              "    .dataframe thead th {\n",
              "        text-align: right;\n",
              "    }\n",
              "</style>\n",
              "<table border=\"1\" class=\"dataframe\">\n",
              "  <thead>\n",
              "    <tr style=\"text-align: right;\">\n",
              "      <th></th>\n",
              "      <th>name</th>\n",
              "      <th>rate</th>\n",
              "      <th>age</th>\n",
              "      <th>country</th>\n",
              "      <th>country_rate</th>\n",
              "      <th>movie_1_role</th>\n",
              "      <th>max_movie_rate</th>\n",
              "      <th>movie_prediction</th>\n",
              "    </tr>\n",
              "  </thead>\n",
              "  <tbody>\n",
              "    <tr>\n",
              "      <th>1</th>\n",
              "      <td>Johnny Depp</td>\n",
              "      <td>40000</td>\n",
              "      <td>59</td>\n",
              "      <td>USA</td>\n",
              "      <td>0.4</td>\n",
              "      <td>294</td>\n",
              "      <td>8.35</td>\n",
              "      <td>220.867769</td>\n",
              "    </tr>\n",
              "    <tr>\n",
              "      <th>2</th>\n",
              "      <td>Christoph Waltz</td>\n",
              "      <td>11000</td>\n",
              "      <td>65</td>\n",
              "      <td>Austria</td>\n",
              "      <td>0.1</td>\n",
              "      <td>188</td>\n",
              "      <td>8.36</td>\n",
              "      <td>133.315571</td>\n",
              "    </tr>\n",
              "    <tr>\n",
              "      <th>3</th>\n",
              "      <td>Tom Hardy</td>\n",
              "      <td>27000</td>\n",
              "      <td>44</td>\n",
              "      <td>GB</td>\n",
              "      <td>0.2</td>\n",
              "      <td>103</td>\n",
              "      <td>8.66</td>\n",
              "      <td>181.620232</td>\n",
              "    </tr>\n",
              "    <tr>\n",
              "      <th>4</th>\n",
              "      <td>Doug Walker</td>\n",
              "      <td>131</td>\n",
              "      <td>40</td>\n",
              "      <td>Italy</td>\n",
              "      <td>0.1</td>\n",
              "      <td>55</td>\n",
              "      <td>8.38</td>\n",
              "      <td>100.501611</td>\n",
              "    </tr>\n",
              "    <tr>\n",
              "      <th>5</th>\n",
              "      <td>Daryl Sabara</td>\n",
              "      <td>640</td>\n",
              "      <td>30</td>\n",
              "      <td>USA</td>\n",
              "      <td>0.4</td>\n",
              "      <td>87</td>\n",
              "      <td>8.36</td>\n",
              "      <td>102.038303</td>\n",
              "    </tr>\n",
              "    <tr>\n",
              "      <th>6</th>\n",
              "      <td>J.K. Simmons</td>\n",
              "      <td>24000</td>\n",
              "      <td>67</td>\n",
              "      <td>USA</td>\n",
              "      <td>0.4</td>\n",
              "      <td>271</td>\n",
              "      <td>8.34</td>\n",
              "      <td>172.563108</td>\n",
              "    </tr>\n",
              "    <tr>\n",
              "      <th>7</th>\n",
              "      <td>Brad Garrett</td>\n",
              "      <td>799</td>\n",
              "      <td>62</td>\n",
              "      <td>USA</td>\n",
              "      <td>0.4</td>\n",
              "      <td>199</td>\n",
              "      <td>8.67</td>\n",
              "      <td>102.518330</td>\n",
              "    </tr>\n",
              "    <tr>\n",
              "      <th>8</th>\n",
              "      <td>Chris Hemsworth</td>\n",
              "      <td>26000</td>\n",
              "      <td>38</td>\n",
              "      <td>Australia</td>\n",
              "      <td>0.1</td>\n",
              "      <td>126</td>\n",
              "      <td>8.36</td>\n",
              "      <td>178.601191</td>\n",
              "    </tr>\n",
              "    <tr>\n",
              "      <th>9</th>\n",
              "      <td>Alan Rickman</td>\n",
              "      <td>25000</td>\n",
              "      <td>69</td>\n",
              "      <td>GB</td>\n",
              "      <td>0.2</td>\n",
              "      <td>126</td>\n",
              "      <td>8.48</td>\n",
              "      <td>175.582149</td>\n",
              "    </tr>\n",
              "    <tr>\n",
              "      <th>10</th>\n",
              "      <td>Henry Cavill</td>\n",
              "      <td>15000</td>\n",
              "      <td>39</td>\n",
              "      <td>Normandy</td>\n",
              "      <td>0.1</td>\n",
              "      <td>64</td>\n",
              "      <td>8.00</td>\n",
              "      <td>145.391736</td>\n",
              "    </tr>\n",
              "  </tbody>\n",
              "</table>\n",
              "</div>\n",
              "      <button class=\"colab-df-convert\" onclick=\"convertToInteractive('df-bc294afa-4ca2-4542-8bc7-e8edebdd8b20')\"\n",
              "              title=\"Convert this dataframe to an interactive table.\"\n",
              "              style=\"display:none;\">\n",
              "        \n",
              "  <svg xmlns=\"http://www.w3.org/2000/svg\" height=\"24px\"viewBox=\"0 0 24 24\"\n",
              "       width=\"24px\">\n",
              "    <path d=\"M0 0h24v24H0V0z\" fill=\"none\"/>\n",
              "    <path d=\"M18.56 5.44l.94 2.06.94-2.06 2.06-.94-2.06-.94-.94-2.06-.94 2.06-2.06.94zm-11 1L8.5 8.5l.94-2.06 2.06-.94-2.06-.94L8.5 2.5l-.94 2.06-2.06.94zm10 10l.94 2.06.94-2.06 2.06-.94-2.06-.94-.94-2.06-.94 2.06-2.06.94z\"/><path d=\"M17.41 7.96l-1.37-1.37c-.4-.4-.92-.59-1.43-.59-.52 0-1.04.2-1.43.59L10.3 9.45l-7.72 7.72c-.78.78-.78 2.05 0 2.83L4 21.41c.39.39.9.59 1.41.59.51 0 1.02-.2 1.41-.59l7.78-7.78 2.81-2.81c.8-.78.8-2.07 0-2.86zM5.41 20L4 18.59l7.72-7.72 1.47 1.35L5.41 20z\"/>\n",
              "  </svg>\n",
              "      </button>\n",
              "      \n",
              "  <style>\n",
              "    .colab-df-container {\n",
              "      display:flex;\n",
              "      flex-wrap:wrap;\n",
              "      gap: 12px;\n",
              "    }\n",
              "\n",
              "    .colab-df-convert {\n",
              "      background-color: #E8F0FE;\n",
              "      border: none;\n",
              "      border-radius: 50%;\n",
              "      cursor: pointer;\n",
              "      display: none;\n",
              "      fill: #1967D2;\n",
              "      height: 32px;\n",
              "      padding: 0 0 0 0;\n",
              "      width: 32px;\n",
              "    }\n",
              "\n",
              "    .colab-df-convert:hover {\n",
              "      background-color: #E2EBFA;\n",
              "      box-shadow: 0px 1px 2px rgba(60, 64, 67, 0.3), 0px 1px 3px 1px rgba(60, 64, 67, 0.15);\n",
              "      fill: #174EA6;\n",
              "    }\n",
              "\n",
              "    [theme=dark] .colab-df-convert {\n",
              "      background-color: #3B4455;\n",
              "      fill: #D2E3FC;\n",
              "    }\n",
              "\n",
              "    [theme=dark] .colab-df-convert:hover {\n",
              "      background-color: #434B5C;\n",
              "      box-shadow: 0px 1px 3px 1px rgba(0, 0, 0, 0.15);\n",
              "      filter: drop-shadow(0px 1px 2px rgba(0, 0, 0, 0.3));\n",
              "      fill: #FFFFFF;\n",
              "    }\n",
              "  </style>\n",
              "\n",
              "      <script>\n",
              "        const buttonEl =\n",
              "          document.querySelector('#df-bc294afa-4ca2-4542-8bc7-e8edebdd8b20 button.colab-df-convert');\n",
              "        buttonEl.style.display =\n",
              "          google.colab.kernel.accessAllowed ? 'block' : 'none';\n",
              "\n",
              "        async function convertToInteractive(key) {\n",
              "          const element = document.querySelector('#df-bc294afa-4ca2-4542-8bc7-e8edebdd8b20');\n",
              "          const dataTable =\n",
              "            await google.colab.kernel.invokeFunction('convertToInteractive',\n",
              "                                                     [key], {});\n",
              "          if (!dataTable) return;\n",
              "\n",
              "          const docLinkHtml = 'Like what you see? Visit the ' +\n",
              "            '<a target=\"_blank\" href=https://colab.research.google.com/notebooks/data_table.ipynb>data table notebook</a>'\n",
              "            + ' to learn more about interactive tables.';\n",
              "          element.innerHTML = '';\n",
              "          dataTable['output_type'] = 'display_data';\n",
              "          await google.colab.output.renderOutput(dataTable, element);\n",
              "          const docLink = document.createElement('div');\n",
              "          docLink.innerHTML = docLinkHtml;\n",
              "          element.appendChild(docLink);\n",
              "        }\n",
              "      </script>\n",
              "    </div>\n",
              "  </div>\n",
              "  "
            ]
          },
          "metadata": {},
          "execution_count": 64
        }
      ]
    },
    {
      "cell_type": "markdown",
      "source": [
        "Как видно по результатам анализа - нельзя показать зависимость рейтинга популярности актера от количества фильмов с данным актером в главной роли. Гипотеза $H_0$ о зависимости рейтинга от количества фильмов не принимается "
      ],
      "metadata": {
        "id": "81rwz8Vlhrb0"
      }
    },
    {
      "cell_type": "markdown",
      "source": [
        "Если предположить зависимость рейтинга актера (в данном датасете рейтинг - количество лайков на ФБ, что не является объективным показателем, в таком случае это \"популярность\", а не рейтинг), то в данном случае эти величины тоже не скоррелированы. "
      ],
      "metadata": {
        "id": "mSDELy3fIdxv"
      }
    },
    {
      "cell_type": "code",
      "source": [
        "df1 = pd.read_csv('movie_metadata.csv')\n",
        "df1 = df1[['actor_1_name','actor_1_facebook_likes', 'imdb_score']]\n",
        "df1.groupby('actor_1_name').head()"
      ],
      "metadata": {
        "colab": {
          "base_uri": "https://localhost:8080/",
          "height": 424
        },
        "id": "aW_tSz6dENYs",
        "outputId": "33866fbf-58ff-4eaf-b052-a9d247bffeea"
      },
      "execution_count": 19,
      "outputs": [
        {
          "output_type": "execute_result",
          "data": {
            "text/plain": [
              "         actor_1_name  actor_1_facebook_likes  imdb_score\n",
              "0         CCH Pounder                  1000.0         7.9\n",
              "1         Johnny Depp                 40000.0         7.1\n",
              "2     Christoph Waltz                 11000.0         6.8\n",
              "3           Tom Hardy                 27000.0         8.5\n",
              "4         Doug Walker                   131.0         7.1\n",
              "...               ...                     ...         ...\n",
              "5038      Eric Mabius                   637.0         7.7\n",
              "5039      Natalie Zea                   841.0         7.5\n",
              "5040      Eva Boehnke                     0.0         6.3\n",
              "5041        Alan Ruck                   946.0         6.3\n",
              "5042      John August                    86.0         6.6\n",
              "\n",
              "[3773 rows x 3 columns]"
            ],
            "text/html": [
              "\n",
              "  <div id=\"df-602ae19e-fdb1-4f37-be08-4cfad945e955\">\n",
              "    <div class=\"colab-df-container\">\n",
              "      <div>\n",
              "<style scoped>\n",
              "    .dataframe tbody tr th:only-of-type {\n",
              "        vertical-align: middle;\n",
              "    }\n",
              "\n",
              "    .dataframe tbody tr th {\n",
              "        vertical-align: top;\n",
              "    }\n",
              "\n",
              "    .dataframe thead th {\n",
              "        text-align: right;\n",
              "    }\n",
              "</style>\n",
              "<table border=\"1\" class=\"dataframe\">\n",
              "  <thead>\n",
              "    <tr style=\"text-align: right;\">\n",
              "      <th></th>\n",
              "      <th>actor_1_name</th>\n",
              "      <th>actor_1_facebook_likes</th>\n",
              "      <th>imdb_score</th>\n",
              "    </tr>\n",
              "  </thead>\n",
              "  <tbody>\n",
              "    <tr>\n",
              "      <th>0</th>\n",
              "      <td>CCH Pounder</td>\n",
              "      <td>1000.0</td>\n",
              "      <td>7.9</td>\n",
              "    </tr>\n",
              "    <tr>\n",
              "      <th>1</th>\n",
              "      <td>Johnny Depp</td>\n",
              "      <td>40000.0</td>\n",
              "      <td>7.1</td>\n",
              "    </tr>\n",
              "    <tr>\n",
              "      <th>2</th>\n",
              "      <td>Christoph Waltz</td>\n",
              "      <td>11000.0</td>\n",
              "      <td>6.8</td>\n",
              "    </tr>\n",
              "    <tr>\n",
              "      <th>3</th>\n",
              "      <td>Tom Hardy</td>\n",
              "      <td>27000.0</td>\n",
              "      <td>8.5</td>\n",
              "    </tr>\n",
              "    <tr>\n",
              "      <th>4</th>\n",
              "      <td>Doug Walker</td>\n",
              "      <td>131.0</td>\n",
              "      <td>7.1</td>\n",
              "    </tr>\n",
              "    <tr>\n",
              "      <th>...</th>\n",
              "      <td>...</td>\n",
              "      <td>...</td>\n",
              "      <td>...</td>\n",
              "    </tr>\n",
              "    <tr>\n",
              "      <th>5038</th>\n",
              "      <td>Eric Mabius</td>\n",
              "      <td>637.0</td>\n",
              "      <td>7.7</td>\n",
              "    </tr>\n",
              "    <tr>\n",
              "      <th>5039</th>\n",
              "      <td>Natalie Zea</td>\n",
              "      <td>841.0</td>\n",
              "      <td>7.5</td>\n",
              "    </tr>\n",
              "    <tr>\n",
              "      <th>5040</th>\n",
              "      <td>Eva Boehnke</td>\n",
              "      <td>0.0</td>\n",
              "      <td>6.3</td>\n",
              "    </tr>\n",
              "    <tr>\n",
              "      <th>5041</th>\n",
              "      <td>Alan Ruck</td>\n",
              "      <td>946.0</td>\n",
              "      <td>6.3</td>\n",
              "    </tr>\n",
              "    <tr>\n",
              "      <th>5042</th>\n",
              "      <td>John August</td>\n",
              "      <td>86.0</td>\n",
              "      <td>6.6</td>\n",
              "    </tr>\n",
              "  </tbody>\n",
              "</table>\n",
              "<p>3773 rows × 3 columns</p>\n",
              "</div>\n",
              "      <button class=\"colab-df-convert\" onclick=\"convertToInteractive('df-602ae19e-fdb1-4f37-be08-4cfad945e955')\"\n",
              "              title=\"Convert this dataframe to an interactive table.\"\n",
              "              style=\"display:none;\">\n",
              "        \n",
              "  <svg xmlns=\"http://www.w3.org/2000/svg\" height=\"24px\"viewBox=\"0 0 24 24\"\n",
              "       width=\"24px\">\n",
              "    <path d=\"M0 0h24v24H0V0z\" fill=\"none\"/>\n",
              "    <path d=\"M18.56 5.44l.94 2.06.94-2.06 2.06-.94-2.06-.94-.94-2.06-.94 2.06-2.06.94zm-11 1L8.5 8.5l.94-2.06 2.06-.94-2.06-.94L8.5 2.5l-.94 2.06-2.06.94zm10 10l.94 2.06.94-2.06 2.06-.94-2.06-.94-.94-2.06-.94 2.06-2.06.94z\"/><path d=\"M17.41 7.96l-1.37-1.37c-.4-.4-.92-.59-1.43-.59-.52 0-1.04.2-1.43.59L10.3 9.45l-7.72 7.72c-.78.78-.78 2.05 0 2.83L4 21.41c.39.39.9.59 1.41.59.51 0 1.02-.2 1.41-.59l7.78-7.78 2.81-2.81c.8-.78.8-2.07 0-2.86zM5.41 20L4 18.59l7.72-7.72 1.47 1.35L5.41 20z\"/>\n",
              "  </svg>\n",
              "      </button>\n",
              "      \n",
              "  <style>\n",
              "    .colab-df-container {\n",
              "      display:flex;\n",
              "      flex-wrap:wrap;\n",
              "      gap: 12px;\n",
              "    }\n",
              "\n",
              "    .colab-df-convert {\n",
              "      background-color: #E8F0FE;\n",
              "      border: none;\n",
              "      border-radius: 50%;\n",
              "      cursor: pointer;\n",
              "      display: none;\n",
              "      fill: #1967D2;\n",
              "      height: 32px;\n",
              "      padding: 0 0 0 0;\n",
              "      width: 32px;\n",
              "    }\n",
              "\n",
              "    .colab-df-convert:hover {\n",
              "      background-color: #E2EBFA;\n",
              "      box-shadow: 0px 1px 2px rgba(60, 64, 67, 0.3), 0px 1px 3px 1px rgba(60, 64, 67, 0.15);\n",
              "      fill: #174EA6;\n",
              "    }\n",
              "\n",
              "    [theme=dark] .colab-df-convert {\n",
              "      background-color: #3B4455;\n",
              "      fill: #D2E3FC;\n",
              "    }\n",
              "\n",
              "    [theme=dark] .colab-df-convert:hover {\n",
              "      background-color: #434B5C;\n",
              "      box-shadow: 0px 1px 3px 1px rgba(0, 0, 0, 0.15);\n",
              "      filter: drop-shadow(0px 1px 2px rgba(0, 0, 0, 0.3));\n",
              "      fill: #FFFFFF;\n",
              "    }\n",
              "  </style>\n",
              "\n",
              "      <script>\n",
              "        const buttonEl =\n",
              "          document.querySelector('#df-602ae19e-fdb1-4f37-be08-4cfad945e955 button.colab-df-convert');\n",
              "        buttonEl.style.display =\n",
              "          google.colab.kernel.accessAllowed ? 'block' : 'none';\n",
              "\n",
              "        async function convertToInteractive(key) {\n",
              "          const element = document.querySelector('#df-602ae19e-fdb1-4f37-be08-4cfad945e955');\n",
              "          const dataTable =\n",
              "            await google.colab.kernel.invokeFunction('convertToInteractive',\n",
              "                                                     [key], {});\n",
              "          if (!dataTable) return;\n",
              "\n",
              "          const docLinkHtml = 'Like what you see? Visit the ' +\n",
              "            '<a target=\"_blank\" href=https://colab.research.google.com/notebooks/data_table.ipynb>data table notebook</a>'\n",
              "            + ' to learn more about interactive tables.';\n",
              "          element.innerHTML = '';\n",
              "          dataTable['output_type'] = 'display_data';\n",
              "          await google.colab.output.renderOutput(dataTable, element);\n",
              "          const docLink = document.createElement('div');\n",
              "          docLink.innerHTML = docLinkHtml;\n",
              "          element.appendChild(docLink);\n",
              "        }\n",
              "      </script>\n",
              "    </div>\n",
              "  </div>\n",
              "  "
            ]
          },
          "metadata": {},
          "execution_count": 19
        }
      ]
    },
    {
      "cell_type": "code",
      "source": [
        "x = pd.Series(df1['actor_1_facebook_likes'])\n",
        "y = pd.Series(df1['imdb_score'])\n",
        "df1.corr()"
      ],
      "metadata": {
        "colab": {
          "base_uri": "https://localhost:8080/",
          "height": 112
        },
        "id": "RzIGqoJXENVj",
        "outputId": "2b518488-9550-4faa-f332-3797816e2533"
      },
      "execution_count": 20,
      "outputs": [
        {
          "output_type": "execute_result",
          "data": {
            "text/plain": [
              "                        actor_1_facebook_likes  imdb_score\n",
              "actor_1_facebook_likes                1.000000    0.076099\n",
              "imdb_score                            0.076099    1.000000"
            ],
            "text/html": [
              "\n",
              "  <div id=\"df-a89331a0-beb6-4d29-a8c2-abb9516971db\">\n",
              "    <div class=\"colab-df-container\">\n",
              "      <div>\n",
              "<style scoped>\n",
              "    .dataframe tbody tr th:only-of-type {\n",
              "        vertical-align: middle;\n",
              "    }\n",
              "\n",
              "    .dataframe tbody tr th {\n",
              "        vertical-align: top;\n",
              "    }\n",
              "\n",
              "    .dataframe thead th {\n",
              "        text-align: right;\n",
              "    }\n",
              "</style>\n",
              "<table border=\"1\" class=\"dataframe\">\n",
              "  <thead>\n",
              "    <tr style=\"text-align: right;\">\n",
              "      <th></th>\n",
              "      <th>actor_1_facebook_likes</th>\n",
              "      <th>imdb_score</th>\n",
              "    </tr>\n",
              "  </thead>\n",
              "  <tbody>\n",
              "    <tr>\n",
              "      <th>actor_1_facebook_likes</th>\n",
              "      <td>1.000000</td>\n",
              "      <td>0.076099</td>\n",
              "    </tr>\n",
              "    <tr>\n",
              "      <th>imdb_score</th>\n",
              "      <td>0.076099</td>\n",
              "      <td>1.000000</td>\n",
              "    </tr>\n",
              "  </tbody>\n",
              "</table>\n",
              "</div>\n",
              "      <button class=\"colab-df-convert\" onclick=\"convertToInteractive('df-a89331a0-beb6-4d29-a8c2-abb9516971db')\"\n",
              "              title=\"Convert this dataframe to an interactive table.\"\n",
              "              style=\"display:none;\">\n",
              "        \n",
              "  <svg xmlns=\"http://www.w3.org/2000/svg\" height=\"24px\"viewBox=\"0 0 24 24\"\n",
              "       width=\"24px\">\n",
              "    <path d=\"M0 0h24v24H0V0z\" fill=\"none\"/>\n",
              "    <path d=\"M18.56 5.44l.94 2.06.94-2.06 2.06-.94-2.06-.94-.94-2.06-.94 2.06-2.06.94zm-11 1L8.5 8.5l.94-2.06 2.06-.94-2.06-.94L8.5 2.5l-.94 2.06-2.06.94zm10 10l.94 2.06.94-2.06 2.06-.94-2.06-.94-.94-2.06-.94 2.06-2.06.94z\"/><path d=\"M17.41 7.96l-1.37-1.37c-.4-.4-.92-.59-1.43-.59-.52 0-1.04.2-1.43.59L10.3 9.45l-7.72 7.72c-.78.78-.78 2.05 0 2.83L4 21.41c.39.39.9.59 1.41.59.51 0 1.02-.2 1.41-.59l7.78-7.78 2.81-2.81c.8-.78.8-2.07 0-2.86zM5.41 20L4 18.59l7.72-7.72 1.47 1.35L5.41 20z\"/>\n",
              "  </svg>\n",
              "      </button>\n",
              "      \n",
              "  <style>\n",
              "    .colab-df-container {\n",
              "      display:flex;\n",
              "      flex-wrap:wrap;\n",
              "      gap: 12px;\n",
              "    }\n",
              "\n",
              "    .colab-df-convert {\n",
              "      background-color: #E8F0FE;\n",
              "      border: none;\n",
              "      border-radius: 50%;\n",
              "      cursor: pointer;\n",
              "      display: none;\n",
              "      fill: #1967D2;\n",
              "      height: 32px;\n",
              "      padding: 0 0 0 0;\n",
              "      width: 32px;\n",
              "    }\n",
              "\n",
              "    .colab-df-convert:hover {\n",
              "      background-color: #E2EBFA;\n",
              "      box-shadow: 0px 1px 2px rgba(60, 64, 67, 0.3), 0px 1px 3px 1px rgba(60, 64, 67, 0.15);\n",
              "      fill: #174EA6;\n",
              "    }\n",
              "\n",
              "    [theme=dark] .colab-df-convert {\n",
              "      background-color: #3B4455;\n",
              "      fill: #D2E3FC;\n",
              "    }\n",
              "\n",
              "    [theme=dark] .colab-df-convert:hover {\n",
              "      background-color: #434B5C;\n",
              "      box-shadow: 0px 1px 3px 1px rgba(0, 0, 0, 0.15);\n",
              "      filter: drop-shadow(0px 1px 2px rgba(0, 0, 0, 0.3));\n",
              "      fill: #FFFFFF;\n",
              "    }\n",
              "  </style>\n",
              "\n",
              "      <script>\n",
              "        const buttonEl =\n",
              "          document.querySelector('#df-a89331a0-beb6-4d29-a8c2-abb9516971db button.colab-df-convert');\n",
              "        buttonEl.style.display =\n",
              "          google.colab.kernel.accessAllowed ? 'block' : 'none';\n",
              "\n",
              "        async function convertToInteractive(key) {\n",
              "          const element = document.querySelector('#df-a89331a0-beb6-4d29-a8c2-abb9516971db');\n",
              "          const dataTable =\n",
              "            await google.colab.kernel.invokeFunction('convertToInteractive',\n",
              "                                                     [key], {});\n",
              "          if (!dataTable) return;\n",
              "\n",
              "          const docLinkHtml = 'Like what you see? Visit the ' +\n",
              "            '<a target=\"_blank\" href=https://colab.research.google.com/notebooks/data_table.ipynb>data table notebook</a>'\n",
              "            + ' to learn more about interactive tables.';\n",
              "          element.innerHTML = '';\n",
              "          dataTable['output_type'] = 'display_data';\n",
              "          await google.colab.output.renderOutput(dataTable, element);\n",
              "          const docLink = document.createElement('div');\n",
              "          docLink.innerHTML = docLinkHtml;\n",
              "          element.appendChild(docLink);\n",
              "        }\n",
              "      </script>\n",
              "    </div>\n",
              "  </div>\n",
              "  "
            ]
          },
          "metadata": {},
          "execution_count": 20
        }
      ]
    },
    {
      "cell_type": "code",
      "source": [
        ""
      ],
      "metadata": {
        "id": "yYFfKFSXENE5"
      },
      "execution_count": null,
      "outputs": []
    }
  ]
}